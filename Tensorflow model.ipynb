{
 "cells": [
  {
   "cell_type": "markdown",
   "metadata": {},
   "source": [
    "# TensorFlow Modelling\n",
    "In this notebook, I did simple tensorflow model and I tried to embed but was not able to figure it out yet. "
   ]
  },
  {
   "cell_type": "code",
   "execution_count": 1,
   "metadata": {},
   "outputs": [],
   "source": [
    "import pandas as pd\n",
    "import numpy as np\n",
    "import matplotlib.pyplot as plt\n",
    "%matplotlib inline"
   ]
  },
  {
   "cell_type": "code",
   "execution_count": 2,
   "metadata": {},
   "outputs": [],
   "source": [
    "import tensorflow as tf\n",
    "from tensorflow.sparse import SparseTensor\n",
    "from tensorflow import keras\n",
    "from tensorflow.keras.preprocessing.sequence import pad_sequences \n",
    "from tensorflow.keras.models import Sequential\n",
    "from tensorflow.keras.layers import Dense, Flatten, Dropout, Embedding\n",
    "from tensorflow.keras.callbacks import ModelCheckpoint \n",
    "from sklearn.metrics import roc_auc_score, roc_curve "
   ]
  },
  {
   "cell_type": "markdown",
   "metadata": {},
   "source": [
    "Reading in the data."
   ]
  },
  {
   "cell_type": "code",
   "execution_count": 3,
   "metadata": {},
   "outputs": [],
   "source": [
    "X_train = pd.read_pickle('sparse_data.pkl')\n",
    "y_train = pd.read_pickle('y_train.pkl')\n",
    "X_test = pd.read_pickle('test_spasedata.pkl')\n",
    "y_test = pd.read_pickle('y_test.pkl')"
   ]
  },
  {
   "cell_type": "code",
   "execution_count": 4,
   "metadata": {
    "scrolled": true
   },
   "outputs": [
    {
     "data": {
      "text/plain": [
       "vote_A     Sparse[int16, 0]\n",
       "vote_N     Sparse[int16, 0]\n",
       "vote_P     Sparse[int16, 0]\n",
       "vote_Y     Sparse[int16, 0]\n",
       "party_1    Sparse[int16, 0]\n",
       "                 ...       \n",
       "yukon      Sparse[int16, 0]\n",
       "yy         Sparse[int16, 0]\n",
       "zealand    Sparse[int16, 0]\n",
       "érable     Sparse[int16, 0]\n",
       "îles       Sparse[int16, 0]\n",
       "Length: 5970, dtype: object"
      ]
     },
     "execution_count": 4,
     "metadata": {},
     "output_type": "execute_result"
    }
   ],
   "source": [
    "X_train.dtypes"
   ]
  },
  {
   "cell_type": "markdown",
   "metadata": {},
   "source": [
    "I want to get the data into a tensor but maintain it to be sparse.  I found a good piece of code to do so."
   ]
  },
  {
   "cell_type": "code",
   "execution_count": 5,
   "metadata": {},
   "outputs": [],
   "source": [
    "#Thanks stackoverflow : https://stackoverflow.com/questions/40896157/scipy-sparse-csr-matrix-to-tensorflow-sparsetensor-mini-batch-gradient-descent\n",
    "def convert_sparse_matrix_to_sparse_tensor(coo):\n",
    "    indices = np.mat([coo.row, coo.col]).transpose()\n",
    "    return SparseTensor(indices, coo.data, coo.shape)"
   ]
  },
  {
   "cell_type": "markdown",
   "metadata": {},
   "source": [
    "Converting it."
   ]
  },
  {
   "cell_type": "code",
   "execution_count": 6,
   "metadata": {},
   "outputs": [],
   "source": [
    "X_train_tensor = convert_sparse_matrix_to_sparse_tensor(X_train.sparse.to_coo())\n",
    "X_test_tensor = convert_sparse_matrix_to_sparse_tensor(X_test.sparse.to_coo())"
   ]
  },
  {
   "cell_type": "markdown",
   "metadata": {},
   "source": [
    "Running the model."
   ]
  },
  {
   "cell_type": "code",
   "execution_count": 7,
   "metadata": {},
   "outputs": [],
   "source": [
    "model = Sequential()\n",
    "model.add(Dense(5970, activation='relu'))\n",
    "model.add(Dropout(0.2))\n",
    "model.add(Dense(2500, activation = 'relu'))\n",
    "model.add(Dropout(0.1))\n",
    "model.add(Dense(1, activation='sigmoid'))\n",
    "model.compile(loss='binary_crossentropy', optimizer='adam',\n",
    "              metrics=['accuracy'])"
   ]
  },
  {
   "cell_type": "markdown",
   "metadata": {},
   "source": [
    "I got an error from tensorflow saying I should do this, this sets up the data into canonical order which tensorflow needs for sparse data."
   ]
  },
  {
   "cell_type": "code",
   "execution_count": 8,
   "metadata": {},
   "outputs": [],
   "source": [
    "X_train_tensor = tf.sparse.reorder(X_train_tensor)\n",
    "X_test_tensor = tf.sparse.reorder(X_test_tensor)"
   ]
  },
  {
   "cell_type": "code",
   "execution_count": 9,
   "metadata": {
    "scrolled": true
   },
   "outputs": [
    {
     "name": "stdout",
     "output_type": "stream",
     "text": [
      "Epoch 1/3\n",
      "3838/3838 [==============================] - 1431s 373ms/step - loss: 0.5629 - accuracy: 0.6823 - val_loss: 0.5770 - val_accuracy: 0.7971\n",
      "Epoch 2/3\n",
      "3838/3838 [==============================] - 1431s 373ms/step - loss: 0.5362 - accuracy: 0.6977 - val_loss: 0.6952 - val_accuracy: 0.7914\n",
      "Epoch 3/3\n",
      "3838/3838 [==============================] - 1404s 366ms/step - loss: 0.5326 - accuracy: 0.6996 - val_loss: 0.7217 - val_accuracy: 0.7489\n"
     ]
    },
    {
     "data": {
      "text/plain": [
       "<tensorflow.python.keras.callbacks.History at 0x226e55a3688>"
      ]
     },
     "execution_count": 9,
     "metadata": {},
     "output_type": "execute_result"
    }
   ],
   "source": [
    "model.fit(X_train_tensor, np.array(y_train),\n",
    "              batch_size = 128,\n",
    "              epochs = 3,\n",
    "              verbose = 1,\n",
    "              validation_data = (X_test_tensor, np.array(y_test)))"
   ]
  },
  {
   "cell_type": "markdown",
   "metadata": {},
   "source": [
    "Saving the model."
   ]
  },
  {
   "cell_type": "code",
   "execution_count": 14,
   "metadata": {},
   "outputs": [
    {
     "name": "stdout",
     "output_type": "stream",
     "text": [
      "WARNING:tensorflow:From C:\\Users\\marte\\.conda\\envs\\deeplearning\\lib\\site-packages\\tensorflow\\python\\ops\\resource_variable_ops.py:1817: calling BaseResourceVariable.__init__ (from tensorflow.python.ops.resource_variable_ops) with constraint is deprecated and will be removed in a future version.\n",
      "Instructions for updating:\n",
      "If using Keras pass *_constraint arguments to layers.\n",
      "INFO:tensorflow:Assets written to: saved_model/my_model\\assets\n"
     ]
    }
   ],
   "source": [
    "model.save('saved_model/my_model')"
   ]
  },
  {
   "cell_type": "code",
   "execution_count": 11,
   "metadata": {
    "scrolled": true
   },
   "outputs": [
    {
     "data": {
      "text/plain": [
       "0.8334894150577242"
      ]
     },
     "execution_count": 11,
     "metadata": {},
     "output_type": "execute_result"
    }
   ],
   "source": [
    "y_test.mean()"
   ]
  },
  {
   "cell_type": "markdown",
   "metadata": {},
   "source": [
    "### Embedding\n",
    "\n",
    "I attempt to embed here but was not able to finish this, I may try again in the future."
   ]
  },
  {
   "cell_type": "code",
   "execution_count": 32,
   "metadata": {},
   "outputs": [],
   "source": [
    "df_train = pd.read_pickle('text_train.pkl')\n",
    "df_test = pd.read_pickle('text_test.pkl')"
   ]
  },
  {
   "cell_type": "code",
   "execution_count": 33,
   "metadata": {
    "scrolled": true
   },
   "outputs": [
    {
     "data": {
      "text/html": [
       "<div>\n",
       "<style scoped>\n",
       "    .dataframe tbody tr th:only-of-type {\n",
       "        vertical-align: middle;\n",
       "    }\n",
       "\n",
       "    .dataframe tbody tr th {\n",
       "        vertical-align: top;\n",
       "    }\n",
       "\n",
       "    .dataframe thead th {\n",
       "        text-align: right;\n",
       "    }\n",
       "</style>\n",
       "<table border=\"1\" class=\"dataframe\">\n",
       "  <thead>\n",
       "    <tr style=\"text-align: right;\">\n",
       "      <th></th>\n",
       "      <th>politician_id</th>\n",
       "      <th>votequestion_id</th>\n",
       "      <th>vote</th>\n",
       "      <th>dissent</th>\n",
       "      <th>vote_question_id</th>\n",
       "      <th>vote_date</th>\n",
       "      <th>description_en</th>\n",
       "      <th>id</th>\n",
       "      <th>name</th>\n",
       "      <th>party_id</th>\n",
       "      <th>riding_id</th>\n",
       "      <th>election_id</th>\n",
       "      <th>elected</th>\n",
       "      <th>election_date</th>\n",
       "      <th>byelection</th>\n",
       "      <th>votepercent</th>\n",
       "    </tr>\n",
       "  </thead>\n",
       "  <tbody>\n",
       "    <tr>\n",
       "      <th>0</th>\n",
       "      <td>77</td>\n",
       "      <td>540</td>\n",
       "      <td>N</td>\n",
       "      <td>True</td>\n",
       "      <td>540</td>\n",
       "      <td>2008-05-26</td>\n",
       "      <td>that the bill  be now read a second time and r...</td>\n",
       "      <td>77</td>\n",
       "      <td>John Cummins</td>\n",
       "      <td>1</td>\n",
       "      <td>59006</td>\n",
       "      <td>1</td>\n",
       "      <td>True</td>\n",
       "      <td>2008-10-14</td>\n",
       "      <td>False</td>\n",
       "      <td>55.75</td>\n",
       "    </tr>\n",
       "    <tr>\n",
       "      <th>1</th>\n",
       "      <td>77</td>\n",
       "      <td>534</td>\n",
       "      <td>N</td>\n",
       "      <td>False</td>\n",
       "      <td>534</td>\n",
       "      <td>2008-05-07</td>\n",
       "      <td>that the bill  be now read a second time and r...</td>\n",
       "      <td>77</td>\n",
       "      <td>John Cummins</td>\n",
       "      <td>1</td>\n",
       "      <td>59006</td>\n",
       "      <td>1</td>\n",
       "      <td>True</td>\n",
       "      <td>2008-10-14</td>\n",
       "      <td>False</td>\n",
       "      <td>55.75</td>\n",
       "    </tr>\n",
       "    <tr>\n",
       "      <th>2</th>\n",
       "      <td>77</td>\n",
       "      <td>496</td>\n",
       "      <td>Y</td>\n",
       "      <td>False</td>\n",
       "      <td>496</td>\n",
       "      <td>2008-03-12</td>\n",
       "      <td>that, in the opinion of the house, the governm...</td>\n",
       "      <td>77</td>\n",
       "      <td>John Cummins</td>\n",
       "      <td>1</td>\n",
       "      <td>59006</td>\n",
       "      <td>1</td>\n",
       "      <td>True</td>\n",
       "      <td>2008-10-14</td>\n",
       "      <td>False</td>\n",
       "      <td>55.75</td>\n",
       "    </tr>\n",
       "    <tr>\n",
       "      <th>3</th>\n",
       "      <td>77</td>\n",
       "      <td>490</td>\n",
       "      <td>Y</td>\n",
       "      <td>False</td>\n",
       "      <td>490</td>\n",
       "      <td>2008-03-05</td>\n",
       "      <td>that the bill  be now read a second time and r...</td>\n",
       "      <td>77</td>\n",
       "      <td>John Cummins</td>\n",
       "      <td>1</td>\n",
       "      <td>59006</td>\n",
       "      <td>1</td>\n",
       "      <td>True</td>\n",
       "      <td>2008-10-14</td>\n",
       "      <td>False</td>\n",
       "      <td>55.75</td>\n",
       "    </tr>\n",
       "    <tr>\n",
       "      <th>4</th>\n",
       "      <td>77</td>\n",
       "      <td>461</td>\n",
       "      <td>Y</td>\n",
       "      <td>True</td>\n",
       "      <td>461</td>\n",
       "      <td>2007-12-12</td>\n",
       "      <td>that the bill  be now read a second time and r...</td>\n",
       "      <td>77</td>\n",
       "      <td>John Cummins</td>\n",
       "      <td>1</td>\n",
       "      <td>59006</td>\n",
       "      <td>1</td>\n",
       "      <td>True</td>\n",
       "      <td>2008-10-14</td>\n",
       "      <td>False</td>\n",
       "      <td>55.75</td>\n",
       "    </tr>\n",
       "    <tr>\n",
       "      <th>...</th>\n",
       "      <td>...</td>\n",
       "      <td>...</td>\n",
       "      <td>...</td>\n",
       "      <td>...</td>\n",
       "      <td>...</td>\n",
       "      <td>...</td>\n",
       "      <td>...</td>\n",
       "      <td>...</td>\n",
       "      <td>...</td>\n",
       "      <td>...</td>\n",
       "      <td>...</td>\n",
       "      <td>...</td>\n",
       "      <td>...</td>\n",
       "      <td>...</td>\n",
       "      <td>...</td>\n",
       "      <td>...</td>\n",
       "    </tr>\n",
       "    <tr>\n",
       "      <th>289087</th>\n",
       "      <td>9294</td>\n",
       "      <td>2366</td>\n",
       "      <td>N</td>\n",
       "      <td>False</td>\n",
       "      <td>2366</td>\n",
       "      <td>2015-06-17</td>\n",
       "      <td>that, in the opinion of the house: (   a) the ...</td>\n",
       "      <td>9294</td>\n",
       "      <td>Jim Eglinski</td>\n",
       "      <td>1</td>\n",
       "      <td>48028</td>\n",
       "      <td>32</td>\n",
       "      <td>True</td>\n",
       "      <td>2015-10-19</td>\n",
       "      <td>False</td>\n",
       "      <td>72.30</td>\n",
       "    </tr>\n",
       "    <tr>\n",
       "      <th>289088</th>\n",
       "      <td>9294</td>\n",
       "      <td>2367</td>\n",
       "      <td>Y</td>\n",
       "      <td>False</td>\n",
       "      <td>2367</td>\n",
       "      <td>2015-06-17</td>\n",
       "      <td>that the 21st report of the standing committee...</td>\n",
       "      <td>9294</td>\n",
       "      <td>Jim Eglinski</td>\n",
       "      <td>1</td>\n",
       "      <td>48028</td>\n",
       "      <td>32</td>\n",
       "      <td>True</td>\n",
       "      <td>2015-10-19</td>\n",
       "      <td>False</td>\n",
       "      <td>72.30</td>\n",
       "    </tr>\n",
       "    <tr>\n",
       "      <th>289089</th>\n",
       "      <td>9294</td>\n",
       "      <td>2368</td>\n",
       "      <td>N</td>\n",
       "      <td>False</td>\n",
       "      <td>2368</td>\n",
       "      <td>2015-06-18</td>\n",
       "      <td>that the motion be amended by deleting all the...</td>\n",
       "      <td>9294</td>\n",
       "      <td>Jim Eglinski</td>\n",
       "      <td>1</td>\n",
       "      <td>48028</td>\n",
       "      <td>32</td>\n",
       "      <td>True</td>\n",
       "      <td>2015-10-19</td>\n",
       "      <td>False</td>\n",
       "      <td>72.30</td>\n",
       "    </tr>\n",
       "    <tr>\n",
       "      <th>289090</th>\n",
       "      <td>9294</td>\n",
       "      <td>2369</td>\n",
       "      <td>Y</td>\n",
       "      <td>False</td>\n",
       "      <td>2369</td>\n",
       "      <td>2015-06-18</td>\n",
       "      <td>that the bill be now read a third time and do ...</td>\n",
       "      <td>9294</td>\n",
       "      <td>Jim Eglinski</td>\n",
       "      <td>1</td>\n",
       "      <td>48028</td>\n",
       "      <td>32</td>\n",
       "      <td>True</td>\n",
       "      <td>2015-10-19</td>\n",
       "      <td>False</td>\n",
       "      <td>72.30</td>\n",
       "    </tr>\n",
       "    <tr>\n",
       "      <th>289091</th>\n",
       "      <td>9294</td>\n",
       "      <td>2370</td>\n",
       "      <td>Y</td>\n",
       "      <td>False</td>\n",
       "      <td>2370</td>\n",
       "      <td>2015-06-18</td>\n",
       "      <td>that the bill be now read a third time and do ...</td>\n",
       "      <td>9294</td>\n",
       "      <td>Jim Eglinski</td>\n",
       "      <td>1</td>\n",
       "      <td>48028</td>\n",
       "      <td>32</td>\n",
       "      <td>True</td>\n",
       "      <td>2015-10-19</td>\n",
       "      <td>False</td>\n",
       "      <td>72.30</td>\n",
       "    </tr>\n",
       "  </tbody>\n",
       "</table>\n",
       "<p>491172 rows × 16 columns</p>\n",
       "</div>"
      ],
      "text/plain": [
       "        politician_id  votequestion_id vote  dissent  vote_question_id  \\\n",
       "0                  77              540    N     True               540   \n",
       "1                  77              534    N    False               534   \n",
       "2                  77              496    Y    False               496   \n",
       "3                  77              490    Y    False               490   \n",
       "4                  77              461    Y     True               461   \n",
       "...               ...              ...  ...      ...               ...   \n",
       "289087           9294             2366    N    False              2366   \n",
       "289088           9294             2367    Y    False              2367   \n",
       "289089           9294             2368    N    False              2368   \n",
       "289090           9294             2369    Y    False              2369   \n",
       "289091           9294             2370    Y    False              2370   \n",
       "\n",
       "        vote_date                                     description_en    id  \\\n",
       "0      2008-05-26  that the bill  be now read a second time and r...    77   \n",
       "1      2008-05-07  that the bill  be now read a second time and r...    77   \n",
       "2      2008-03-12  that, in the opinion of the house, the governm...    77   \n",
       "3      2008-03-05  that the bill  be now read a second time and r...    77   \n",
       "4      2007-12-12  that the bill  be now read a second time and r...    77   \n",
       "...           ...                                                ...   ...   \n",
       "289087 2015-06-17  that, in the opinion of the house: (   a) the ...  9294   \n",
       "289088 2015-06-17  that the 21st report of the standing committee...  9294   \n",
       "289089 2015-06-18  that the motion be amended by deleting all the...  9294   \n",
       "289090 2015-06-18  that the bill be now read a third time and do ...  9294   \n",
       "289091 2015-06-18  that the bill be now read a third time and do ...  9294   \n",
       "\n",
       "                name  party_id  riding_id  election_id elected election_date  \\\n",
       "0       John Cummins         1      59006            1    True    2008-10-14   \n",
       "1       John Cummins         1      59006            1    True    2008-10-14   \n",
       "2       John Cummins         1      59006            1    True    2008-10-14   \n",
       "3       John Cummins         1      59006            1    True    2008-10-14   \n",
       "4       John Cummins         1      59006            1    True    2008-10-14   \n",
       "...              ...       ...        ...          ...     ...           ...   \n",
       "289087  Jim Eglinski         1      48028           32    True    2015-10-19   \n",
       "289088  Jim Eglinski         1      48028           32    True    2015-10-19   \n",
       "289089  Jim Eglinski         1      48028           32    True    2015-10-19   \n",
       "289090  Jim Eglinski         1      48028           32    True    2015-10-19   \n",
       "289091  Jim Eglinski         1      48028           32    True    2015-10-19   \n",
       "\n",
       "        byelection  votepercent  \n",
       "0            False        55.75  \n",
       "1            False        55.75  \n",
       "2            False        55.75  \n",
       "3            False        55.75  \n",
       "4            False        55.75  \n",
       "...            ...          ...  \n",
       "289087       False        72.30  \n",
       "289088       False        72.30  \n",
       "289089       False        72.30  \n",
       "289090       False        72.30  \n",
       "289091       False        72.30  \n",
       "\n",
       "[491172 rows x 16 columns]"
      ]
     },
     "execution_count": 33,
     "metadata": {},
     "output_type": "execute_result"
    }
   ],
   "source": [
    "df_train"
   ]
  },
  {
   "cell_type": "code",
   "execution_count": 48,
   "metadata": {},
   "outputs": [],
   "source": [
    "import nltk\n",
    "from nltk import word_tokenize, sent_tokenize \n",
    "from nltk.corpus import stopwords\n",
    "from nltk.stem.porter import *\n",
    "import string\n",
    "stpwrds = stopwords.words('english') \n",
    "punc = list(string.punctuation)"
   ]
  },
  {
   "cell_type": "code",
   "execution_count": 86,
   "metadata": {},
   "outputs": [],
   "source": [
    "def cleaner(sentence):\n",
    "    sentence = sentence.translate(str.maketrans('', '', string.punctuation))\n",
    "    return np.array(list([word for word in sentence.split() if word.lower() not in stpwrds]))"
   ]
  },
  {
   "cell_type": "code",
   "execution_count": 87,
   "metadata": {},
   "outputs": [],
   "source": [
    "text_X1_train =  df_train['description_en']\n",
    "text_X1_train = text_X1_train.apply(lambda x : cleaner(x))"
   ]
  },
  {
   "cell_type": "code",
   "execution_count": 75,
   "metadata": {},
   "outputs": [],
   "source": [
    "text_X1_test = df_test['description_en']\n",
    "text_X1_test = text_X1_test.apply(lambda x : cleaner(x))"
   ]
  },
  {
   "cell_type": "code",
   "execution_count": 92,
   "metadata": {},
   "outputs": [],
   "source": [
    "max_length = text_X1_train.str.len().mean()\n",
    "max_length = int(max_length*1.5)"
   ]
  },
  {
   "cell_type": "code",
   "execution_count": 88,
   "metadata": {},
   "outputs": [
    {
     "data": {
      "text/plain": [
       "0         [bill, read, second, time, referred, standing,...\n",
       "1         [bill, read, second, time, referred, standing,...\n",
       "2         [opinion, house, government, stand, consistent...\n",
       "3         [bill, read, second, time, referred, standing,...\n",
       "4         [bill, read, second, time, referred, standing,...\n",
       "                                ...                        \n",
       "289087    [opinion, house, unemployment, rate, canada, r...\n",
       "289088    [21st, report, standing, committee, procedure,...\n",
       "289089    [motion, amended, deleting, words, word, “that...\n",
       "289090                      [bill, read, third, time, pass]\n",
       "289091                      [bill, read, third, time, pass]\n",
       "Name: description_en, Length: 491172, dtype: object"
      ]
     },
     "execution_count": 88,
     "metadata": {},
     "output_type": "execute_result"
    }
   ],
   "source": [
    "text_X1_train"
   ]
  },
  {
   "cell_type": "code",
   "execution_count": 95,
   "metadata": {},
   "outputs": [],
   "source": [
    "all_words = []\n",
    "for vote in text_X1_train:    \n",
    "    for word in vote:\n",
    "        if word not in all_words:\n",
    "            all_words.append(word)"
   ]
  },
  {
   "cell_type": "code",
   "execution_count": 89,
   "metadata": {},
   "outputs": [
    {
     "ename": "ValueError",
     "evalue": "invalid literal for int() with base 10: 'bill'",
     "output_type": "error",
     "traceback": [
      "\u001b[1;31m---------------------------------------------------------------------------\u001b[0m",
      "\u001b[1;31mValueError\u001b[0m                                Traceback (most recent call last)",
      "\u001b[1;32m<ipython-input-89-3d31ae473598>\u001b[0m in \u001b[0;36m<module>\u001b[1;34m()\u001b[0m\n\u001b[0;32m      1\u001b[0m text_X1_train = pad_sequences(text_X1_train, maxlen = max_length,\n\u001b[1;32m----> 2\u001b[1;33m                         padding = 'pre', truncating = 'pre', value = 0)\n\u001b[0m",
      "\u001b[1;32mC:\\Users\\marte\\.conda\\envs\\deeplearning\\lib\\site-packages\\tensorflow\\python\\keras\\preprocessing\\sequence.py\u001b[0m in \u001b[0;36mpad_sequences\u001b[1;34m(sequences, maxlen, dtype, padding, truncating, value)\u001b[0m\n\u001b[0;32m    156\u001b[0m   return sequence.pad_sequences(\n\u001b[0;32m    157\u001b[0m       \u001b[0msequences\u001b[0m\u001b[1;33m,\u001b[0m \u001b[0mmaxlen\u001b[0m\u001b[1;33m=\u001b[0m\u001b[0mmaxlen\u001b[0m\u001b[1;33m,\u001b[0m \u001b[0mdtype\u001b[0m\u001b[1;33m=\u001b[0m\u001b[0mdtype\u001b[0m\u001b[1;33m,\u001b[0m\u001b[1;33m\u001b[0m\u001b[1;33m\u001b[0m\u001b[0m\n\u001b[1;32m--> 158\u001b[1;33m       padding=padding, truncating=truncating, value=value)\n\u001b[0m\u001b[0;32m    159\u001b[0m \u001b[1;33m\u001b[0m\u001b[0m\n\u001b[0;32m    160\u001b[0m keras_export(\n",
      "\u001b[1;32mC:\\Users\\marte\\.conda\\envs\\deeplearning\\lib\\site-packages\\keras_preprocessing\\sequence.py\u001b[0m in \u001b[0;36mpad_sequences\u001b[1;34m(sequences, maxlen, dtype, padding, truncating, value)\u001b[0m\n\u001b[0;32m     96\u001b[0m \u001b[1;33m\u001b[0m\u001b[0m\n\u001b[0;32m     97\u001b[0m         \u001b[1;31m# check `trunc` has expected shape\u001b[0m\u001b[1;33m\u001b[0m\u001b[1;33m\u001b[0m\u001b[1;33m\u001b[0m\u001b[0m\n\u001b[1;32m---> 98\u001b[1;33m         \u001b[0mtrunc\u001b[0m \u001b[1;33m=\u001b[0m \u001b[0mnp\u001b[0m\u001b[1;33m.\u001b[0m\u001b[0masarray\u001b[0m\u001b[1;33m(\u001b[0m\u001b[0mtrunc\u001b[0m\u001b[1;33m,\u001b[0m \u001b[0mdtype\u001b[0m\u001b[1;33m=\u001b[0m\u001b[0mdtype\u001b[0m\u001b[1;33m)\u001b[0m\u001b[1;33m\u001b[0m\u001b[1;33m\u001b[0m\u001b[0m\n\u001b[0m\u001b[0;32m     99\u001b[0m         \u001b[1;32mif\u001b[0m \u001b[0mtrunc\u001b[0m\u001b[1;33m.\u001b[0m\u001b[0mshape\u001b[0m\u001b[1;33m[\u001b[0m\u001b[1;36m1\u001b[0m\u001b[1;33m:\u001b[0m\u001b[1;33m]\u001b[0m \u001b[1;33m!=\u001b[0m \u001b[0msample_shape\u001b[0m\u001b[1;33m:\u001b[0m\u001b[1;33m\u001b[0m\u001b[1;33m\u001b[0m\u001b[0m\n\u001b[0;32m    100\u001b[0m             raise ValueError('Shape of sample %s of sequence at position %s '\n",
      "\u001b[1;32mC:\\Users\\marte\\.conda\\envs\\deeplearning\\lib\\site-packages\\numpy\\core\\_asarray.py\u001b[0m in \u001b[0;36masarray\u001b[1;34m(a, dtype, order)\u001b[0m\n\u001b[0;32m     81\u001b[0m \u001b[1;33m\u001b[0m\u001b[0m\n\u001b[0;32m     82\u001b[0m     \"\"\"\n\u001b[1;32m---> 83\u001b[1;33m     \u001b[1;32mreturn\u001b[0m \u001b[0marray\u001b[0m\u001b[1;33m(\u001b[0m\u001b[0ma\u001b[0m\u001b[1;33m,\u001b[0m \u001b[0mdtype\u001b[0m\u001b[1;33m,\u001b[0m \u001b[0mcopy\u001b[0m\u001b[1;33m=\u001b[0m\u001b[1;32mFalse\u001b[0m\u001b[1;33m,\u001b[0m \u001b[0morder\u001b[0m\u001b[1;33m=\u001b[0m\u001b[0morder\u001b[0m\u001b[1;33m)\u001b[0m\u001b[1;33m\u001b[0m\u001b[1;33m\u001b[0m\u001b[0m\n\u001b[0m\u001b[0;32m     84\u001b[0m \u001b[1;33m\u001b[0m\u001b[0m\n\u001b[0;32m     85\u001b[0m \u001b[1;33m\u001b[0m\u001b[0m\n",
      "\u001b[1;31mValueError\u001b[0m: invalid literal for int() with base 10: 'bill'"
     ]
    }
   ],
   "source": [
    "text_X1_train = pad_sequences(text_X1_train, maxlen = max_length,\n",
    "                        padding = 'pre', truncating = 'pre', value = 0)"
   ]
  },
  {
   "cell_type": "code",
   "execution_count": null,
   "metadata": {},
   "outputs": [],
   "source": [
    "x_valid = pad_sequences(x_valid, maxlen=max_review_length,\n",
    "                        padding=pad_type, truncating=trunc_type, value=0)"
   ]
  }
 ],
 "metadata": {
  "kernelspec": {
   "display_name": "Python [conda env:.conda-deeplearning]",
   "language": "python",
   "name": "conda-env-.conda-deeplearning-py"
  },
  "language_info": {
   "codemirror_mode": {
    "name": "ipython",
    "version": 3
   },
   "file_extension": ".py",
   "mimetype": "text/x-python",
   "name": "python",
   "nbconvert_exporter": "python",
   "pygments_lexer": "ipython3",
   "version": "3.7.8"
  }
 },
 "nbformat": 4,
 "nbformat_minor": 4
}
