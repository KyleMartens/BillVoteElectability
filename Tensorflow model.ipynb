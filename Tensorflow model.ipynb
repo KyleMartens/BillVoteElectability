{
 "cells": [
  {
   "cell_type": "markdown",
   "metadata": {},
   "source": [
    "# TensorFlow Modelling\n",
    "In this notebook, I did simple tensorflow model and I tried to embed but was not able to figure it out yet. "
   ]
  },
  {
   "cell_type": "code",
   "execution_count": 2,
   "metadata": {},
   "outputs": [],
   "source": [
    "import pandas as pd\n",
    "import numpy as np\n",
    "import matplotlib.pyplot as plt\n",
    "%matplotlib inline"
   ]
  },
  {
   "cell_type": "code",
   "execution_count": 2,
   "metadata": {},
   "outputs": [],
   "source": [
    "import tensorflow as tf\n",
    "from tensorflow.sparse import SparseTensor\n",
    "from tensorflow import keras\n",
    "from tensorflow.keras.preprocessing.sequence import pad_sequences \n",
    "from tensorflow.keras.models import Sequential\n",
    "from tensorflow.keras.layers import Dense, Flatten, Dropout, Embedding\n",
    "from tensorflow.keras.callbacks import ModelCheckpoint \n",
    "from sklearn.metrics import roc_auc_score, roc_curve "
   ]
  },
  {
   "cell_type": "markdown",
   "metadata": {},
   "source": [
    "Reading in the data."
   ]
  },
  {
   "cell_type": "code",
   "execution_count": 3,
   "metadata": {},
   "outputs": [],
   "source": [
    "X_train = pd.read_pickle('sparse_data.pkl')\n",
    "y_train = pd.read_pickle('y_train.pkl')\n",
    "X_test = pd.read_pickle('test_spasedata.pkl')\n",
    "y_test = pd.read_pickle('y_test.pkl')"
   ]
  },
  {
   "cell_type": "code",
   "execution_count": 4,
   "metadata": {
    "scrolled": true
   },
   "outputs": [
    {
     "data": {
      "text/plain": [
       "vote_A     Sparse[int16, 0]\n",
       "vote_N     Sparse[int16, 0]\n",
       "vote_P     Sparse[int16, 0]\n",
       "vote_Y     Sparse[int16, 0]\n",
       "party_1    Sparse[int16, 0]\n",
       "                 ...       \n",
       "yukon      Sparse[int16, 0]\n",
       "yy         Sparse[int16, 0]\n",
       "zealand    Sparse[int16, 0]\n",
       "érable     Sparse[int16, 0]\n",
       "îles       Sparse[int16, 0]\n",
       "Length: 5970, dtype: object"
      ]
     },
     "execution_count": 4,
     "metadata": {},
     "output_type": "execute_result"
    }
   ],
   "source": [
    "X_train.dtypes"
   ]
  },
  {
   "cell_type": "markdown",
   "metadata": {},
   "source": [
    "I want to get the data into a tensor but maintain it to be sparse.  I found a good piece of code to do so."
   ]
  },
  {
   "cell_type": "code",
   "execution_count": 5,
   "metadata": {},
   "outputs": [],
   "source": [
    "#Thanks stackoverflow : https://stackoverflow.com/questions/40896157/scipy-sparse-csr-matrix-to-tensorflow-sparsetensor-mini-batch-gradient-descent\n",
    "def convert_sparse_matrix_to_sparse_tensor(coo):\n",
    "    indices = np.mat([coo.row, coo.col]).transpose()\n",
    "    return SparseTensor(indices, coo.data, coo.shape)"
   ]
  },
  {
   "cell_type": "markdown",
   "metadata": {},
   "source": [
    "Converting it."
   ]
  },
  {
   "cell_type": "code",
   "execution_count": 6,
   "metadata": {},
   "outputs": [],
   "source": [
    "X_train_tensor = convert_sparse_matrix_to_sparse_tensor(X_train.sparse.to_coo())\n",
    "X_test_tensor = convert_sparse_matrix_to_sparse_tensor(X_test.sparse.to_coo())"
   ]
  },
  {
   "cell_type": "markdown",
   "metadata": {},
   "source": [
    "Running the model."
   ]
  },
  {
   "cell_type": "code",
   "execution_count": 7,
   "metadata": {},
   "outputs": [],
   "source": [
    "model = Sequential()\n",
    "model.add(Dense(5970, activation='relu'))\n",
    "model.add(Dropout(0.2))\n",
    "model.add(Dense(2500, activation = 'relu'))\n",
    "model.add(Dropout(0.1))\n",
    "model.add(Dense(1, activation='sigmoid'))\n",
    "model.compile(loss='binary_crossentropy', optimizer='adam',\n",
    "              metrics=['accuracy'])"
   ]
  },
  {
   "cell_type": "markdown",
   "metadata": {},
   "source": [
    "I got an error from tensorflow saying I should do this, this sets up the data into canonical order which tensorflow needs for sparse data."
   ]
  },
  {
   "cell_type": "code",
   "execution_count": 8,
   "metadata": {},
   "outputs": [],
   "source": [
    "X_train_tensor = tf.sparse.reorder(X_train_tensor)\n",
    "X_test_tensor = tf.sparse.reorder(X_test_tensor)"
   ]
  },
  {
   "cell_type": "code",
   "execution_count": 9,
   "metadata": {
    "scrolled": true
   },
   "outputs": [
    {
     "name": "stdout",
     "output_type": "stream",
     "text": [
      "Epoch 1/3\n",
      "3838/3838 [==============================] - 1431s 373ms/step - loss: 0.5629 - accuracy: 0.6823 - val_loss: 0.5770 - val_accuracy: 0.7971\n",
      "Epoch 2/3\n",
      "3838/3838 [==============================] - 1431s 373ms/step - loss: 0.5362 - accuracy: 0.6977 - val_loss: 0.6952 - val_accuracy: 0.7914\n",
      "Epoch 3/3\n",
      "3838/3838 [==============================] - 1404s 366ms/step - loss: 0.5326 - accuracy: 0.6996 - val_loss: 0.7217 - val_accuracy: 0.7489\n"
     ]
    },
    {
     "data": {
      "text/plain": [
       "<tensorflow.python.keras.callbacks.History at 0x226e55a3688>"
      ]
     },
     "execution_count": 9,
     "metadata": {},
     "output_type": "execute_result"
    }
   ],
   "source": [
    "model.fit(X_train_tensor, np.array(y_train),\n",
    "              batch_size = 128,\n",
    "              epochs = 3,\n",
    "              verbose = 1,\n",
    "              validation_data = (X_test_tensor, np.array(y_test)))"
   ]
  },
  {
   "cell_type": "markdown",
   "metadata": {},
   "source": [
    "Saving the model."
   ]
  },
  {
   "cell_type": "code",
   "execution_count": 14,
   "metadata": {},
   "outputs": [
    {
     "name": "stdout",
     "output_type": "stream",
     "text": [
      "WARNING:tensorflow:From C:\\Users\\marte\\.conda\\envs\\deeplearning\\lib\\site-packages\\tensorflow\\python\\ops\\resource_variable_ops.py:1817: calling BaseResourceVariable.__init__ (from tensorflow.python.ops.resource_variable_ops) with constraint is deprecated and will be removed in a future version.\n",
      "Instructions for updating:\n",
      "If using Keras pass *_constraint arguments to layers.\n",
      "INFO:tensorflow:Assets written to: saved_model/my_model\\assets\n"
     ]
    }
   ],
   "source": [
    "model.save('saved_model/my_model')"
   ]
  },
  {
   "cell_type": "code",
   "execution_count": 11,
   "metadata": {
    "scrolled": true
   },
   "outputs": [
    {
     "data": {
      "text/plain": [
       "0.8334894150577242"
      ]
     },
     "execution_count": 11,
     "metadata": {},
     "output_type": "execute_result"
    }
   ],
   "source": [
    "y_test.mean()"
   ]
  },
  {
   "cell_type": "markdown",
   "metadata": {},
   "source": [
    "### Embedding\n",
    "\n",
    "I attempt to embed here but was not able to finish this, I may try again in the future."
   ]
  },
  {
   "cell_type": "code",
   "execution_count": 3,
   "metadata": {},
   "outputs": [],
   "source": [
    "df_train = pd.read_pickle('text_train.pkl')\n",
    "df_test = pd.read_pickle('text_test.pkl')"
   ]
  },
  {
   "cell_type": "code",
   "execution_count": 3,
   "metadata": {
    "scrolled": true
   },
   "outputs": [
    {
     "data": {
      "text/html": [
       "<div>\n",
       "<style scoped>\n",
       "    .dataframe tbody tr th:only-of-type {\n",
       "        vertical-align: middle;\n",
       "    }\n",
       "\n",
       "    .dataframe tbody tr th {\n",
       "        vertical-align: top;\n",
       "    }\n",
       "\n",
       "    .dataframe thead th {\n",
       "        text-align: right;\n",
       "    }\n",
       "</style>\n",
       "<table border=\"1\" class=\"dataframe\">\n",
       "  <thead>\n",
       "    <tr style=\"text-align: right;\">\n",
       "      <th></th>\n",
       "      <th>politician_id</th>\n",
       "      <th>votequestion_id</th>\n",
       "      <th>vote</th>\n",
       "      <th>dissent</th>\n",
       "      <th>vote_question_id</th>\n",
       "      <th>vote_date</th>\n",
       "      <th>description_en</th>\n",
       "      <th>id</th>\n",
       "      <th>name</th>\n",
       "      <th>party_id</th>\n",
       "      <th>riding_id</th>\n",
       "      <th>election_id</th>\n",
       "      <th>elected</th>\n",
       "      <th>election_date</th>\n",
       "      <th>byelection</th>\n",
       "      <th>votepercent</th>\n",
       "    </tr>\n",
       "  </thead>\n",
       "  <tbody>\n",
       "    <tr>\n",
       "      <th>0</th>\n",
       "      <td>77</td>\n",
       "      <td>540</td>\n",
       "      <td>N</td>\n",
       "      <td>True</td>\n",
       "      <td>540</td>\n",
       "      <td>2008-05-26</td>\n",
       "      <td>that the bill  be now read a second time and r...</td>\n",
       "      <td>77</td>\n",
       "      <td>John Cummins</td>\n",
       "      <td>1</td>\n",
       "      <td>59006</td>\n",
       "      <td>1</td>\n",
       "      <td>True</td>\n",
       "      <td>2008-10-14</td>\n",
       "      <td>False</td>\n",
       "      <td>55.75</td>\n",
       "    </tr>\n",
       "    <tr>\n",
       "      <th>1</th>\n",
       "      <td>77</td>\n",
       "      <td>534</td>\n",
       "      <td>N</td>\n",
       "      <td>False</td>\n",
       "      <td>534</td>\n",
       "      <td>2008-05-07</td>\n",
       "      <td>that the bill  be now read a second time and r...</td>\n",
       "      <td>77</td>\n",
       "      <td>John Cummins</td>\n",
       "      <td>1</td>\n",
       "      <td>59006</td>\n",
       "      <td>1</td>\n",
       "      <td>True</td>\n",
       "      <td>2008-10-14</td>\n",
       "      <td>False</td>\n",
       "      <td>55.75</td>\n",
       "    </tr>\n",
       "    <tr>\n",
       "      <th>2</th>\n",
       "      <td>77</td>\n",
       "      <td>496</td>\n",
       "      <td>Y</td>\n",
       "      <td>False</td>\n",
       "      <td>496</td>\n",
       "      <td>2008-03-12</td>\n",
       "      <td>that, in the opinion of the house, the governm...</td>\n",
       "      <td>77</td>\n",
       "      <td>John Cummins</td>\n",
       "      <td>1</td>\n",
       "      <td>59006</td>\n",
       "      <td>1</td>\n",
       "      <td>True</td>\n",
       "      <td>2008-10-14</td>\n",
       "      <td>False</td>\n",
       "      <td>55.75</td>\n",
       "    </tr>\n",
       "    <tr>\n",
       "      <th>3</th>\n",
       "      <td>77</td>\n",
       "      <td>490</td>\n",
       "      <td>Y</td>\n",
       "      <td>False</td>\n",
       "      <td>490</td>\n",
       "      <td>2008-03-05</td>\n",
       "      <td>that the bill  be now read a second time and r...</td>\n",
       "      <td>77</td>\n",
       "      <td>John Cummins</td>\n",
       "      <td>1</td>\n",
       "      <td>59006</td>\n",
       "      <td>1</td>\n",
       "      <td>True</td>\n",
       "      <td>2008-10-14</td>\n",
       "      <td>False</td>\n",
       "      <td>55.75</td>\n",
       "    </tr>\n",
       "    <tr>\n",
       "      <th>4</th>\n",
       "      <td>77</td>\n",
       "      <td>461</td>\n",
       "      <td>Y</td>\n",
       "      <td>True</td>\n",
       "      <td>461</td>\n",
       "      <td>2007-12-12</td>\n",
       "      <td>that the bill  be now read a second time and r...</td>\n",
       "      <td>77</td>\n",
       "      <td>John Cummins</td>\n",
       "      <td>1</td>\n",
       "      <td>59006</td>\n",
       "      <td>1</td>\n",
       "      <td>True</td>\n",
       "      <td>2008-10-14</td>\n",
       "      <td>False</td>\n",
       "      <td>55.75</td>\n",
       "    </tr>\n",
       "    <tr>\n",
       "      <th>...</th>\n",
       "      <td>...</td>\n",
       "      <td>...</td>\n",
       "      <td>...</td>\n",
       "      <td>...</td>\n",
       "      <td>...</td>\n",
       "      <td>...</td>\n",
       "      <td>...</td>\n",
       "      <td>...</td>\n",
       "      <td>...</td>\n",
       "      <td>...</td>\n",
       "      <td>...</td>\n",
       "      <td>...</td>\n",
       "      <td>...</td>\n",
       "      <td>...</td>\n",
       "      <td>...</td>\n",
       "      <td>...</td>\n",
       "    </tr>\n",
       "    <tr>\n",
       "      <th>289087</th>\n",
       "      <td>9294</td>\n",
       "      <td>2366</td>\n",
       "      <td>N</td>\n",
       "      <td>False</td>\n",
       "      <td>2366</td>\n",
       "      <td>2015-06-17</td>\n",
       "      <td>that, in the opinion of the house: (   a) the ...</td>\n",
       "      <td>9294</td>\n",
       "      <td>Jim Eglinski</td>\n",
       "      <td>1</td>\n",
       "      <td>48028</td>\n",
       "      <td>32</td>\n",
       "      <td>True</td>\n",
       "      <td>2015-10-19</td>\n",
       "      <td>False</td>\n",
       "      <td>72.30</td>\n",
       "    </tr>\n",
       "    <tr>\n",
       "      <th>289088</th>\n",
       "      <td>9294</td>\n",
       "      <td>2367</td>\n",
       "      <td>Y</td>\n",
       "      <td>False</td>\n",
       "      <td>2367</td>\n",
       "      <td>2015-06-17</td>\n",
       "      <td>that the 21st report of the standing committee...</td>\n",
       "      <td>9294</td>\n",
       "      <td>Jim Eglinski</td>\n",
       "      <td>1</td>\n",
       "      <td>48028</td>\n",
       "      <td>32</td>\n",
       "      <td>True</td>\n",
       "      <td>2015-10-19</td>\n",
       "      <td>False</td>\n",
       "      <td>72.30</td>\n",
       "    </tr>\n",
       "    <tr>\n",
       "      <th>289089</th>\n",
       "      <td>9294</td>\n",
       "      <td>2368</td>\n",
       "      <td>N</td>\n",
       "      <td>False</td>\n",
       "      <td>2368</td>\n",
       "      <td>2015-06-18</td>\n",
       "      <td>that the motion be amended by deleting all the...</td>\n",
       "      <td>9294</td>\n",
       "      <td>Jim Eglinski</td>\n",
       "      <td>1</td>\n",
       "      <td>48028</td>\n",
       "      <td>32</td>\n",
       "      <td>True</td>\n",
       "      <td>2015-10-19</td>\n",
       "      <td>False</td>\n",
       "      <td>72.30</td>\n",
       "    </tr>\n",
       "    <tr>\n",
       "      <th>289090</th>\n",
       "      <td>9294</td>\n",
       "      <td>2369</td>\n",
       "      <td>Y</td>\n",
       "      <td>False</td>\n",
       "      <td>2369</td>\n",
       "      <td>2015-06-18</td>\n",
       "      <td>that the bill be now read a third time and do ...</td>\n",
       "      <td>9294</td>\n",
       "      <td>Jim Eglinski</td>\n",
       "      <td>1</td>\n",
       "      <td>48028</td>\n",
       "      <td>32</td>\n",
       "      <td>True</td>\n",
       "      <td>2015-10-19</td>\n",
       "      <td>False</td>\n",
       "      <td>72.30</td>\n",
       "    </tr>\n",
       "    <tr>\n",
       "      <th>289091</th>\n",
       "      <td>9294</td>\n",
       "      <td>2370</td>\n",
       "      <td>Y</td>\n",
       "      <td>False</td>\n",
       "      <td>2370</td>\n",
       "      <td>2015-06-18</td>\n",
       "      <td>that the bill be now read a third time and do ...</td>\n",
       "      <td>9294</td>\n",
       "      <td>Jim Eglinski</td>\n",
       "      <td>1</td>\n",
       "      <td>48028</td>\n",
       "      <td>32</td>\n",
       "      <td>True</td>\n",
       "      <td>2015-10-19</td>\n",
       "      <td>False</td>\n",
       "      <td>72.30</td>\n",
       "    </tr>\n",
       "  </tbody>\n",
       "</table>\n",
       "<p>491172 rows × 16 columns</p>\n",
       "</div>"
      ],
      "text/plain": [
       "        politician_id  votequestion_id vote  dissent  vote_question_id  \\\n",
       "0                  77              540    N     True               540   \n",
       "1                  77              534    N    False               534   \n",
       "2                  77              496    Y    False               496   \n",
       "3                  77              490    Y    False               490   \n",
       "4                  77              461    Y     True               461   \n",
       "...               ...              ...  ...      ...               ...   \n",
       "289087           9294             2366    N    False              2366   \n",
       "289088           9294             2367    Y    False              2367   \n",
       "289089           9294             2368    N    False              2368   \n",
       "289090           9294             2369    Y    False              2369   \n",
       "289091           9294             2370    Y    False              2370   \n",
       "\n",
       "        vote_date                                     description_en    id  \\\n",
       "0      2008-05-26  that the bill  be now read a second time and r...    77   \n",
       "1      2008-05-07  that the bill  be now read a second time and r...    77   \n",
       "2      2008-03-12  that, in the opinion of the house, the governm...    77   \n",
       "3      2008-03-05  that the bill  be now read a second time and r...    77   \n",
       "4      2007-12-12  that the bill  be now read a second time and r...    77   \n",
       "...           ...                                                ...   ...   \n",
       "289087 2015-06-17  that, in the opinion of the house: (   a) the ...  9294   \n",
       "289088 2015-06-17  that the 21st report of the standing committee...  9294   \n",
       "289089 2015-06-18  that the motion be amended by deleting all the...  9294   \n",
       "289090 2015-06-18  that the bill be now read a third time and do ...  9294   \n",
       "289091 2015-06-18  that the bill be now read a third time and do ...  9294   \n",
       "\n",
       "                name  party_id  riding_id  election_id elected election_date  \\\n",
       "0       John Cummins         1      59006            1    True    2008-10-14   \n",
       "1       John Cummins         1      59006            1    True    2008-10-14   \n",
       "2       John Cummins         1      59006            1    True    2008-10-14   \n",
       "3       John Cummins         1      59006            1    True    2008-10-14   \n",
       "4       John Cummins         1      59006            1    True    2008-10-14   \n",
       "...              ...       ...        ...          ...     ...           ...   \n",
       "289087  Jim Eglinski         1      48028           32    True    2015-10-19   \n",
       "289088  Jim Eglinski         1      48028           32    True    2015-10-19   \n",
       "289089  Jim Eglinski         1      48028           32    True    2015-10-19   \n",
       "289090  Jim Eglinski         1      48028           32    True    2015-10-19   \n",
       "289091  Jim Eglinski         1      48028           32    True    2015-10-19   \n",
       "\n",
       "        byelection  votepercent  \n",
       "0            False        55.75  \n",
       "1            False        55.75  \n",
       "2            False        55.75  \n",
       "3            False        55.75  \n",
       "4            False        55.75  \n",
       "...            ...          ...  \n",
       "289087       False        72.30  \n",
       "289088       False        72.30  \n",
       "289089       False        72.30  \n",
       "289090       False        72.30  \n",
       "289091       False        72.30  \n",
       "\n",
       "[491172 rows x 16 columns]"
      ]
     },
     "execution_count": 3,
     "metadata": {},
     "output_type": "execute_result"
    }
   ],
   "source": [
    "df_train"
   ]
  },
  {
   "cell_type": "code",
   "execution_count": 4,
   "metadata": {},
   "outputs": [],
   "source": [
    "X_train = df_train['description_en']\n",
    "y_train = df_train['elected'].astype('int')\n",
    "X_test = df_test['description_en']\n",
    "y_test = df_test['elected'].astype('int')"
   ]
  },
  {
   "cell_type": "code",
   "execution_count": 5,
   "metadata": {},
   "outputs": [],
   "source": [
    "X_train = X_train.str.replace('\\d+', '')\n",
    "X_test = X_test.str.replace('\\d+', '')"
   ]
  },
  {
   "cell_type": "code",
   "execution_count": 6,
   "metadata": {},
   "outputs": [],
   "source": [
    "X_train = X_train.str.replace('$', '')\n",
    "X_test = X_test.str.replace('$', '')"
   ]
  },
  {
   "cell_type": "code",
   "execution_count": 7,
   "metadata": {},
   "outputs": [],
   "source": [
    "X_train = X_train.str.replace('  ', ' ')\n",
    "X_test = X_test.str.replace('  ', ' ')"
   ]
  },
  {
   "cell_type": "code",
   "execution_count": 8,
   "metadata": {},
   "outputs": [],
   "source": [
    "from tensorflow.python.keras.preprocessing.text import Tokenizer\n",
    "from tensorflow.python.keras.preprocessing.sequence import pad_sequences\n",
    "#define vocabulary size\n",
    "vocab_size = 4000\n",
    "tokenizer_obj = Tokenizer(num_words=vocab_size)\n",
    "total_reviews = X_train.append(X_test)"
   ]
  },
  {
   "cell_type": "code",
   "execution_count": 9,
   "metadata": {},
   "outputs": [],
   "source": [
    "tokenizer_obj.fit_on_texts(list(total_reviews))"
   ]
  },
  {
   "cell_type": "code",
   "execution_count": 10,
   "metadata": {},
   "outputs": [],
   "source": [
    "# pad sequences\n",
    "max_length = max([len(s.split()) for s in total_reviews])\n",
    "\n",
    "X_train_tokens = tokenizer_obj.texts_to_sequences(X_train)\n",
    "X_test_tokens = tokenizer_obj.texts_to_sequences(X_test)\n",
    "\n",
    "X_train_pad = pad_sequences(X_train_tokens, maxlen=max_length, padding='post')\n",
    "X_test_pad = pad_sequences(X_test_tokens, maxlen=max_length, padding='post')"
   ]
  },
  {
   "cell_type": "code",
   "execution_count": 8,
   "metadata": {},
   "outputs": [],
   "source": [
    "from tensorflow.keras import Model, Sequential\n",
    "from tensorflow.keras.layers import Activation, Dense, Dot, Embedding, Flatten, GlobalAveragePooling1D, Reshape, GRU\n",
    "\n",
    "model = Sequential()\n",
    "model.add(Embedding(vocab_size, 100, input_length=max_length))\n",
    "model.add(GRU(units=32, dropout=0.2, recurrent_dropout=0.2))\n",
    "model.add(Dense(1, activation='sigmoid'))\n",
    "\n",
    "model.compile(loss='binary_crossentropy', optimizer='adam', metrics=['accuracy'])"
   ]
  },
  {
   "cell_type": "code",
   "execution_count": null,
   "metadata": {},
   "outputs": [
    {
     "name": "stdout",
     "output_type": "stream",
     "text": [
      "Epoch 1/8\n",
      "3838/3838 [==============================] - 10069s 3s/step - loss: 0.6688 - accuracy: 0.6106 - val_loss: 0.5550 - val_accuracy: 0.8335\n",
      "Epoch 2/8\n",
      "3838/3838 [==============================] - 9554s 2s/step - loss: 0.6686 - accuracy: 0.6106 - val_loss: 0.5901 - val_accuracy: 0.8335\n",
      "Epoch 3/8\n",
      " 373/3838 [=>............................] - ETA: 2:18:59 - loss: 0.6691 - accuracy: 0.6096"
     ]
    }
   ],
   "source": [
    "model.fit(X_train_pad, y_train, batch_size=128, epochs=8, validation_data=(X_test_pad, y_test), verbose=1)"
   ]
  },
  {
   "cell_type": "markdown",
   "metadata": {},
   "source": [
    "The model does not appear to be learning, I shall stop it here and try another one."
   ]
  },
  {
   "cell_type": "code",
   "execution_count": 13,
   "metadata": {},
   "outputs": [],
   "source": [
    "from tensorflow.keras import Model, Sequential\n",
    "from tensorflow.keras.layers import Activation, Dense, Dot, Embedding, Flatten, GlobalAveragePooling1D, Reshape, GRU\n",
    "from tensorflow.keras import layers\n",
    "\n",
    "model2 = Sequential()\n",
    "model2.add(Embedding(vocab_size, 100, input_length=max_length))\n",
    "model2.add(layers.Bidirectional(layers.LSTM(32)))\n",
    "model2.add(Dense(1, activation='sigmoid'))\n",
    "\n",
    "model2.compile(loss='binary_crossentropy', optimizer='adam', metrics=['accuracy'])"
   ]
  },
  {
   "cell_type": "code",
   "execution_count": null,
   "metadata": {},
   "outputs": [
    {
     "name": "stdout",
     "output_type": "stream",
     "text": [
      "Epoch 1/3\n",
      "702/960 [====================>.........] - ETA: 3:56:55 - loss: 0.6461 - accuracy: 0.6104"
     ]
    }
   ],
   "source": [
    "model2.fit(X_train_pad, y_train, batch_size=512, epochs=3, validation_data=(X_test_pad, y_test), verbose=1)"
   ]
  },
  {
   "cell_type": "markdown",
   "metadata": {},
   "source": [
    "This crashed, I don't may try it again later, but right now I wish to look at something more efficient."
   ]
  },
  {
   "cell_type": "code",
   "execution_count": 11,
   "metadata": {},
   "outputs": [],
   "source": [
    "from tensorflow.keras import Model, Sequential\n",
    "from tensorflow.keras.layers import Activation, Dense, Dot, Embedding, Flatten, GlobalAveragePooling1D, Reshape, GRU\n",
    "from tensorflow.keras import layers\n",
    "\n",
    "model3 = Sequential()\n",
    "model3.add(Embedding(vocab_size, 100, input_length=max_length))\n",
    "model3.add(layers.LSTM(32))\n",
    "model3.add(Dense(1, activation='sigmoid'))\n",
    "\n",
    "model3.compile(loss='binary_crossentropy', optimizer='adam', metrics=['accuracy'])"
   ]
  },
  {
   "cell_type": "code",
   "execution_count": null,
   "metadata": {},
   "outputs": [
    {
     "name": "stdout",
     "output_type": "stream",
     "text": [
      "Epoch 1/3\n",
      "960/960 [==============================] - 8393s 9s/step - loss: 0.6688 - accuracy: 0.6104 - val_loss: 0.5783 - val_accuracy: 0.8335\n",
      "Epoch 2/3\n",
      " 32/960 [>.............................] - ETA: 2:02:44 - loss: 0.6684 - accuracy: 0.6111"
     ]
    }
   ],
   "source": [
    "model3.fit(X_train_pad, y_train, batch_size=512, epochs=3, validation_data=(X_test_pad, y_test), verbose=1)"
   ]
  },
  {
   "cell_type": "code",
   "execution_count": 8,
   "metadata": {},
   "outputs": [],
   "source": [
    "X_train2 = df_train[df_train['vote'] == 'Y']['description_en']\n",
    "y_train2 = df_train[df_train['vote'] == 'Y']['elected'].astype('int')\n",
    "X_test2 = df_test[df_test['vote'] == 'Y']['description_en']\n",
    "y_test2 = df_test[df_test['vote'] == 'Y']['elected'].astype('int')"
   ]
  },
  {
   "cell_type": "code",
   "execution_count": 9,
   "metadata": {},
   "outputs": [],
   "source": [
    "from tensorflow.python.keras.preprocessing.text import Tokenizer\n",
    "from tensorflow.python.keras.preprocessing.sequence import pad_sequences\n",
    "#define vocabulary size\n",
    "vocab_size = 4000\n",
    "tokenizer_obj = Tokenizer(num_words=vocab_size)\n",
    "total_reviews = X_train2.append(X_test2)"
   ]
  },
  {
   "cell_type": "code",
   "execution_count": 10,
   "metadata": {},
   "outputs": [],
   "source": [
    "tokenizer_obj.fit_on_texts(list(total_reviews))"
   ]
  },
  {
   "cell_type": "code",
   "execution_count": 12,
   "metadata": {},
   "outputs": [],
   "source": [
    "# pad sequences\n",
    "max_length = max([len(s.split()) for s in total_reviews])\n",
    "\n",
    "X_train_tokens = tokenizer_obj.texts_to_sequences(X_train2)\n",
    "X_test_tokens = tokenizer_obj.texts_to_sequences(X_test2)\n",
    "\n",
    "X_train_pad = pad_sequences(X_train_tokens, maxlen=max_length, padding='post')\n",
    "X_test_pad = pad_sequences(X_test_tokens, maxlen=max_length, padding='post')"
   ]
  },
  {
   "cell_type": "code",
   "execution_count": 13,
   "metadata": {},
   "outputs": [],
   "source": [
    "from tensorflow.keras import Model, Sequential\n",
    "from tensorflow.keras.layers import Activation, Dense, Dot, Embedding, Flatten, GlobalAveragePooling1D, Reshape, GRU\n",
    "\n",
    "model = Sequential()\n",
    "model.add(Embedding(vocab_size, 100, input_length=max_length))\n",
    "model.add(GRU(units=32, dropout=0.2, recurrent_dropout=0.2))\n",
    "model.add(Dense(1, activation='sigmoid'))\n",
    "\n",
    "model.compile(loss='binary_crossentropy', optimizer='adam', metrics=['accuracy'])"
   ]
  },
  {
   "cell_type": "code",
   "execution_count": 14,
   "metadata": {},
   "outputs": [
    {
     "name": "stdout",
     "output_type": "stream",
     "text": [
      "Epoch 1/3\n",
      "1871/1871 [==============================] - 3933s 2s/step - loss: 0.6727 - accuracy: 0.6016 - val_loss: 0.5841 - val_accuracy: 0.8121\n",
      "Epoch 2/3\n",
      "1871/1871 [==============================] - 3927s 2s/step - loss: 0.6726 - accuracy: 0.6016 - val_loss: 0.5851 - val_accuracy: 0.8121\n",
      "Epoch 3/3\n",
      "1871/1871 [==============================] - 3938s 2s/step - loss: 0.6725 - accuracy: 0.6016 - val_loss: 0.5995 - val_accuracy: 0.8121\n"
     ]
    },
    {
     "data": {
      "text/plain": [
       "<tensorflow.python.keras.callbacks.History at 0x21dc4383348>"
      ]
     },
     "execution_count": 14,
     "metadata": {},
     "output_type": "execute_result"
    }
   ],
   "source": [
    "model.fit(X_train_pad, y_train2, batch_size=128, epochs=3, validation_data=(X_test_pad, y_test), verbose=1)"
   ]
  },
  {
   "cell_type": "code",
   "execution_count": 15,
   "metadata": {},
   "outputs": [
    {
     "data": {
      "text/plain": [
       "0.601588567658199"
      ]
     },
     "execution_count": 15,
     "metadata": {},
     "output_type": "execute_result"
    }
   ],
   "source": [
    "y_train2.mean()"
   ]
  },
  {
   "cell_type": "markdown",
   "metadata": {},
   "source": [
    "Again it looks like the model wasn't able to find any differences"
   ]
  }
 ],
 "metadata": {
  "kernelspec": {
   "display_name": "Python [conda env:.conda-deeplearning]",
   "language": "python",
   "name": "conda-env-.conda-deeplearning-py"
  },
  "language_info": {
   "codemirror_mode": {
    "name": "ipython",
    "version": 3
   },
   "file_extension": ".py",
   "mimetype": "text/x-python",
   "name": "python",
   "nbconvert_exporter": "python",
   "pygments_lexer": "ipython3",
   "version": "3.7.8"
  }
 },
 "nbformat": 4,
 "nbformat_minor": 4
}
